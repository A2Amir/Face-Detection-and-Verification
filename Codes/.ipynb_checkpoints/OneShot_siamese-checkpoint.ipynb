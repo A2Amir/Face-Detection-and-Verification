{
 "cells": [
  {
   "cell_type": "code",
   "execution_count": 1,
   "metadata": {},
   "outputs": [],
   "source": [
    "import random\n",
    "import numpy as np\n",
    "import tensorflow.keras\n",
    "from tensorflow.keras.models import Sequential, Model\n",
    "from tensorflow.keras.layers import Flatten, Dense, Concatenate, Dot, Lambda, Input\n",
    "from tensorflow.keras.datasets import mnist\n",
    "from tensorflow.keras.optimizers import Adam\n",
    "import matplotlib.pyplot as plt\n",
    "import  tensorflow.keras.backend as k\n",
    "from tensorflow.keras.utils import plot_model\n",
    "import tensorflow as tf\n",
    "from sklearn import decomposition"
   ]
  },
  {
   "cell_type": "code",
   "execution_count": 2,
   "metadata": {},
   "outputs": [
    {
     "data": {
      "text/plain": [
       "'2.0.0'"
      ]
     },
     "execution_count": 2,
     "metadata": {},
     "output_type": "execute_result"
    }
   ],
   "source": [
    "tf.__version__"
   ]
  },
  {
   "cell_type": "code",
   "execution_count": 3,
   "metadata": {},
   "outputs": [],
   "source": [
    "#load data\n",
    "(x_train,y_train), (x_test, y_test) = mnist.load_data()\n",
    "\n",
    "\n",
    "x_train = x_train.astype('float32')\n",
    "x_test = x_test.astype('float32')\n",
    "\n",
    "#Normalization is a rescaling of the data from the original range so that all values are within the range of 0 and 1.\n",
    "x_train /= 255\n",
    "x_test /= 255\n"
   ]
  },
  {
   "cell_type": "code",
   "execution_count": 4,
   "metadata": {},
   "outputs": [],
   "source": [
    "def make_pairs(x,y):\n",
    "    num_classes = max(y) + 1\n",
    "    digit_indices = [np.where(y == i)[0] for i in range(num_classes)]\n",
    "    \n",
    "    pairs = []\n",
    "    labels = []\n",
    "    for i in range(len(x)):\n",
    "        x1 = x[i]\n",
    "        label1 = y[i]\n",
    "        idx2 = random.choice(digit_indices[label1])\n",
    "        x2 = x[idx2]\n",
    "        \n",
    "        pairs += [[x1,x2]]\n",
    "        labels += [1]\n",
    "        \n",
    "        #add a not matching \n",
    "        label2 = random.randint(0, num_classes-1)\n",
    "        while label2 == label1:\n",
    "            label2 = random.randint(0, num_classes-1)\n",
    "        idx2 = random.choice(digit_indices[label2])\n",
    "        x2 = x[idx2]\n",
    "        \n",
    "            \n",
    "        pairs += [[x1,x2]]\n",
    "        labels += [0]\n",
    "    return np.array(pairs), np.array(labels)\n",
    "            "
   ]
  },
  {
   "cell_type": "code",
   "execution_count": 5,
   "metadata": {},
   "outputs": [],
   "source": [
    "pairs_train, labels_train = make_pairs(x_train, y_train)\n",
    "pairs_test, labels_test = make_pairs(x_test, y_test)"
   ]
  },
  {
   "cell_type": "code",
   "execution_count": 6,
   "metadata": {},
   "outputs": [
    {
     "name": "stdout",
     "output_type": "stream",
     "text": [
      "(120000, 2, 28, 28) (120000,)\n",
      "(20000, 2, 28, 28) (20000,)\n"
     ]
    }
   ],
   "source": [
    "print(pairs_train.shape, labels_train.shape)\n",
    "print(pairs_test.shape, labels_test.shape)"
   ]
  },
  {
   "cell_type": "code",
   "execution_count": 7,
   "metadata": {},
   "outputs": [
    {
     "name": "stdout",
     "output_type": "stream",
     "text": [
      "0\n"
     ]
    },
    {
     "data": {
      "image/png": "[encoded data removed]",
      "text/plain": [
       "<Figure size 432x288 with 2 Axes>"
      ]
     },
     "metadata": {
      "needs_background": "light"
     },
     "output_type": "display_data"
    }
   ],
   "source": [
    "#plot pairs\n",
    "idx = random.randint(0, pairs_train.shape[0])\n",
    "\n",
    "\n",
    "fig = plt.figure()\n",
    "\n",
    "plt.subplot(1, 2, 1)\n",
    "plt.imshow(pairs_train[idx,0])\n",
    "\n",
    "plt.subplot(1, 2, 2)\n",
    "plt.imshow(pairs_train[idx,1])\n",
    "# zero méans the pairs are not the same while one means vice versa\n",
    "print(labels_train[idx])"
   ]
  },
  {
   "cell_type": "code",
   "execution_count": 8,
   "metadata": {},
   "outputs": [],
   "source": [
    "def euclidean_distance(vects):\n",
    "    x,y = vects\n",
    "    sum_square = k.sum(k.square(x-y), axis=1, keepdims=True)\n",
    "    sqrt = k.sqrt(k.maximum(sum_square, k.epsilon()))\n",
    "    return sqrt"
   ]
  },
  {
   "cell_type": "code",
   "execution_count": 9,
   "metadata": {},
   "outputs": [],
   "source": [
    "# create model\n",
    "input = Input((28,28))\n",
    "x = Flatten()(input)\n",
    "x = Dense(10) (x)\n",
    "x = Dense(128, activation='relu')(x)\n",
    "dense = Model(input, x)\n",
    "\n",
    "input1 = Input((28,28))\n",
    "input2 = Input((28,28))\n",
    "\n",
    "dense1 = dense(input1)\n",
    "dense2 = dense(input2)\n",
    "\n",
    "merge_layer = Lambda(euclidean_distance)([dense1,dense2])\n",
    "dense_layer = Dense(1, activation='sigmoid')(merge_layer)\n",
    "model = Model (inputs = [input1,input2], outputs = dense_layer)"
   ]
  },
  {
   "cell_type": "code",
   "execution_count": 10,
   "metadata": {},
   "outputs": [],
   "source": [
    "model.compile(loss ='binary_crossentropy', optimizer='adam', metrics=['accuracy'])"
   ]
  },
  {
   "cell_type": "code",
   "execution_count": 11,
   "metadata": {},
   "outputs": [],
   "source": [
    "#plot_model(model, to_file='model_plot.png', show_shapes=True, show_layer_names=True)"
   ]
  },
  {
   "attachments": {
    "model_plot.png": {
     "image/png": "[encoded data removed]"
    }
   },
   "cell_type": "markdown",
   "metadata": {},
   "source": [
    "![model_plot.png](attachment:model_plot.png)"
   ]
  },
  {
   "cell_type": "code",
   "execution_count": null,
   "metadata": {},
   "outputs": [
    {
     "name": "stdout",
     "output_type": "stream",
     "text": [
      "Train on 120000 samples\n",
      "Epoch 1/20\n",
      "120000/120000 [==============================] - 9s 71us/sample - loss: 0.4482 - accuracy: 0.7945\n",
      "Epoch 2/20\n",
      "120000/120000 [==============================] - 6s 54us/sample - loss: 0.3009 - accuracy: 0.8863\n",
      "Epoch 3/20\n",
      "120000/120000 [==============================] - 7s 57us/sample - loss: 0.2567 - accuracy: 0.9011\n",
      "Epoch 4/20\n",
      "120000/120000 [==============================] - 6s 52us/sample - loss: 0.2328 - accuracy: 0.9098\n",
      "Epoch 5/20\n",
      "120000/120000 [==============================] - 7s 58us/sample - loss: 0.2171 - accuracy: 0.9174\n",
      "Epoch 6/20\n",
      "120000/120000 [==============================] - 7s 57us/sample - loss: 0.2073 - accuracy: 0.9206\n",
      "Epoch 7/20\n",
      "120000/120000 [==============================] - 7s 58us/sample - loss: 0.2012 - accuracy: 0.9231\n",
      "Epoch 8/20\n",
      "120000/120000 [==============================] - 6s 52us/sample - loss: 0.1955 - accuracy: 0.9252\n",
      "Epoch 9/20\n",
      "120000/120000 [==============================] - 6s 53us/sample - loss: 0.1909 - accuracy: 0.9272\n",
      "Epoch 10/20\n",
      "120000/120000 [==============================] - 7s 55us/sample - loss: 0.1883 - accuracy: 0.9280\n",
      "Epoch 11/20\n",
      "120000/120000 [==============================] - 7s 54us/sample - loss: 0.1859 - accuracy: 0.9290\n",
      "Epoch 12/20\n",
      "120000/120000 [==============================] - 7s 57us/sample - loss: 0.1843 - accuracy: 0.9293\n",
      "Epoch 13/20\n",
      " 68768/120000 [================>.............] - ETA: 2s - loss: 0.1818 - accuracy: 0.9311"
     ]
    }
   ],
   "source": [
    "model.fit([pairs_train[:,0],pairs_train[:,1]], labels_train[:], batch_size=32, epochs=20)"
   ]
  },
  {
   "cell_type": "markdown",
   "metadata": {},
   "source": [
    "\n",
    "## Visualizing Weights using the PCA\n",
    "\n",
    "Using the PCA, I can graphically represent high dimensional embeddings. This can be helpful in visualizing, examining, and understanding your embedding layers.\n"
   ]
  },
  {
   "cell_type": "code",
   "execution_count": null,
   "metadata": {},
   "outputs": [],
   "source": [
    "# Get the weights of the embedding layer\n",
    "weights = tf.Variable(dense.layers[3].get_weights()[0])\n",
    "print(weights.shape)"
   ]
  },
  {
   "cell_type": "code",
   "execution_count": null,
   "metadata": {},
   "outputs": [],
   "source": [
    "# n_components = numbers of dimenstions you want to retain\n",
    "pca = decomposition.PCA(n_components=2)\n",
    "pca_data = pca.fit_transform(weights.numpy())\n"
   ]
  },
  {
   "cell_type": "code",
   "execution_count": null,
   "metadata": {},
   "outputs": [],
   "source": [
    "# plot weights\n",
    "names = [str(i) for i in range(10)]\n",
    "plt.scatter(pca_data[:,0],pca_data[:,1])\n",
    "for label, x, y in zip(names, pca_data[:,0], pca_data[:,1]):\n",
    "    plt.annotate( label, xy=(x, y), xytext=(-2, 2), textcoords='offset points', ha='right', va='bottom' )\n",
    "plt.show()"
   ]
  },
  {
   "cell_type": "markdown",
   "metadata": {},
   "source": [
    "# Evaluate Model on the test dataset"
   ]
  },
  {
   "cell_type": "code",
   "execution_count": null,
   "metadata": {},
   "outputs": [],
   "source": [
    "score, acc = model.evaluate([pairs_test[:,0],pairs_test[:,1]], labels_test[:],batch_size=25, verbose=2)\n",
    "print('Test score:', score) #Score is the evaluation of the loss function for a given input.\n",
    "print('Test accuracy:', acc)"
   ]
  },
  {
   "cell_type": "markdown",
   "metadata": {},
   "source": [
    "# Test Model on the Fashion MNIST dataset"
   ]
  },
  {
   "cell_type": "code",
   "execution_count": null,
   "metadata": {},
   "outputs": [],
   "source": [
    "(f_x_train, f_y_train), (f_x_test, f_y_test)= tf.keras.datasets.fashion_mnist.load_data()\n",
    "f_x_train = f_x_train.astype('float32')\n",
    "f_x_test = f_x_test.astype('float32')\n",
    "f_x_train /= 255\n",
    "f_x_test /= 255"
   ]
  },
  {
   "cell_type": "code",
   "execution_count": null,
   "metadata": {},
   "outputs": [],
   "source": [
    "num_classes = max(f_y_train) + 1\n",
    "digit_indices = [np.where(f_y_train == i)[0] for i in range(num_classes)]\n",
    "\n",
    "f_idx = random.randint(0, num_classes-1)\n",
    "pair1 = f_x_train[random.choice(digit_indices[f_idx])]\n",
    "pair2 = f_x_train[random.choice(digit_indices[f_idx])]"
   ]
  },
  {
   "cell_type": "code",
   "execution_count": null,
   "metadata": {},
   "outputs": [],
   "source": [
    "# plot pairs\n",
    "fig = plt.figure()\n",
    "\n",
    "plt.subplot(1, 2, 1)\n",
    "plt.imshow(pair1)\n",
    "\n",
    "plt.subplot(1, 2, 2)\n",
    "plt.imshow(pair2)\n",
    "\n",
    "\n",
    "print(pair1.shape)"
   ]
  },
  {
   "cell_type": "code",
   "execution_count": null,
   "metadata": {},
   "outputs": [],
   "source": [
    "input1 = np.expand_dims(pair1,0)\n",
    "input2 = np.expand_dims(pair2,0)"
   ]
  },
  {
   "cell_type": "code",
   "execution_count": null,
   "metadata": {},
   "outputs": [],
   "source": [
    "#make prediction\n",
    "model.predict([input1,input2])"
   ]
  },
  {
   "cell_type": "markdown",
   "metadata": {},
   "source": [
    "# Evaluate on The Fashion MNIST dataset"
   ]
  },
  {
   "cell_type": "code",
   "execution_count": null,
   "metadata": {},
   "outputs": [],
   "source": [
    "fashion_x_test, fashion_y_test = make_pairs(f_x_test,f_y_test)\n",
    "print(fashion_x_test.shape)\n",
    "print(fashion_y_test.shape)"
   ]
  },
  {
   "cell_type": "code",
   "execution_count": null,
   "metadata": {},
   "outputs": [],
   "source": [
    "score, acc = model.evaluate([fashion_x_test[:,0],fashion_x_test[:,1]], fashion_y_test[:],batch_size=16, verbose=2)\n",
    "print('Test score:', score) #Score is the evaluation of the loss function for a given input.\n",
    "print('Test accuracy:', acc)"
   ]
  },
  {
   "cell_type": "code",
   "execution_count": null,
   "metadata": {},
   "outputs": [],
   "source": []
  }
 ],
 "metadata": {
  "kernelspec": {
   "display_name": "Python 3",
   "language": "python",
   "name": "python3"
  },
  "language_info": {
   "codemirror_mode": {
    "name": "ipython",
    "version": 3
   },
   "file_extension": ".py",
   "mimetype": "text/x-python",
   "name": "python",
   "nbconvert_exporter": "python",
   "pygments_lexer": "ipython3",
   "version": "3.6.2"
  }
 },
 "nbformat": 4,
 "nbformat_minor": 2
}
