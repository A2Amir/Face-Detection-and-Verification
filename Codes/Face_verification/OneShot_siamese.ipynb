{
 "cells": [
  {
   "cell_type": "code",
   "execution_count": 1,
   "metadata": {},
   "outputs": [],
   "source": [
    "import random\n",
    "import numpy as np\n",
    "import tensorflow.keras\n",
    "from tensorflow.keras.models import Sequential, Model\n",
    "from tensorflow.keras.layers import Flatten, Dense, Concatenate, Dot, Lambda, Input\n",
    "from tensorflow.keras.datasets import mnist\n",
    "from tensorflow.keras.optimizers import Adam\n",
    "import matplotlib.pyplot as plt\n",
    "import  tensorflow.keras.backend as k\n",
    "from tensorflow.keras.utils import plot_model\n",
    "import tensorflow as tf\n",
    "from sklearn import decomposition"
   ]
  },
  {
   "cell_type": "code",
   "execution_count": 2,
   "metadata": {},
   "outputs": [
    {
     "data": {
      "text/plain": [
       "'2.1.0'"
      ]
     },
     "execution_count": 2,
     "metadata": {},
     "output_type": "execute_result"
    }
   ],
   "source": [
    "tf.__version__"
   ]
  },
  {
   "cell_type": "code",
   "execution_count": 3,
   "metadata": {},
   "outputs": [],
   "source": [
    "#load data\n",
    "(x_train,y_train), (x_test, y_test) = mnist.load_data()\n",
    "\n",
    "\n",
    "x_train = x_train.astype('float32')\n",
    "x_test = x_test.astype('float32')\n",
    "\n",
    "#Normalization is a rescaling of the data from the original range so that all values are within the range of 0 and 1.\n",
    "x_train /= 255\n",
    "x_test /= 255\n"
   ]
  },
  {
   "cell_type": "code",
   "execution_count": 4,
   "metadata": {},
   "outputs": [],
   "source": [
    "def make_pairs(x,y):\n",
    "    num_classes = max(y) + 1\n",
    "    digit_indices = [np.where(y == i)[0] for i in range(num_classes)]\n",
    "    \n",
    "    pairs = []\n",
    "    labels = []\n",
    "    for i in range(len(x)):\n",
    "        x1 = x[i]\n",
    "        label1 = y[i]\n",
    "        idx2 = random.choice(digit_indices[label1])\n",
    "        x2 = x[idx2]\n",
    "        \n",
    "        pairs += [[x1,x2]]\n",
    "        labels += [1]\n",
    "        \n",
    "        #add a not matching \n",
    "        label2 = random.randint(0, num_classes-1)\n",
    "        while label2 == label1:\n",
    "            label2 = random.randint(0, num_classes-1)\n",
    "        idx2 = random.choice(digit_indices[label2])\n",
    "        x2 = x[idx2]\n",
    "        \n",
    "            \n",
    "        pairs += [[x1,x2]]\n",
    "        labels += [0]\n",
    "    return np.array(pairs), np.array(labels)\n",
    "            "
   ]
  },
  {
   "cell_type": "code",
   "execution_count": 5,
   "metadata": {},
   "outputs": [],
   "source": [
    "pairs_train, labels_train = make_pairs(x_train, y_train)\n",
    "pairs_test, labels_test = make_pairs(x_test, y_test)"
   ]
  },
  {
   "cell_type": "code",
   "execution_count": 6,
   "metadata": {},
   "outputs": [
    {
     "name": "stdout",
     "output_type": "stream",
     "text": [
      "(120000, 2, 28, 28) (120000,)\n",
      "(20000, 2, 28, 28) (20000,)\n"
     ]
    }
   ],
   "source": [
    "print(pairs_train.shape, labels_train.shape)\n",
    "print(pairs_test.shape, labels_test.shape)"
   ]
  },
  {
   "cell_type": "code",
   "execution_count": 7,
   "metadata": {},
   "outputs": [
    {
     "name": "stdout",
     "output_type": "stream",
     "text": [
      "0\n"
     ]
    },
    {
     "data": {
      "image/png": "[encoded data removed]",
      "text/plain": [
       "<Figure size 432x288 with 2 Axes>"
      ]
     },
     "metadata": {
      "needs_background": "light"
     },
     "output_type": "display_data"
    }
   ],
   "source": [
    "#plot pairs\n",
    "idx = random.randint(0, pairs_train.shape[0])\n",
    "\n",
    "\n",
    "fig = plt.figure()\n",
    "\n",
    "plt.subplot(1, 2, 1)\n",
    "plt.imshow(pairs_train[idx,0])\n",
    "\n",
    "plt.subplot(1, 2, 2)\n",
    "plt.imshow(pairs_train[idx,1])\n",
    "# zero méans the pairs are not the same while one means vice versa\n",
    "print(labels_train[idx])"
   ]
  },
  {
   "cell_type": "code",
   "execution_count": 9,
   "metadata": {},
   "outputs": [],
   "source": [
    "def euclidean_distance(vects):\n",
    "    x,y = vects\n",
    "    sum_square = k.sum(k.square(x-y), axis=1, keepdims=True)\n",
    "    sqrt = k.sqrt(k.maximum(sum_square, k.epsilon()))\n",
    "    return sqrt"
   ]
  },
  {
   "cell_type": "code",
   "execution_count": 10,
   "metadata": {},
   "outputs": [],
   "source": [
    "# create model\n",
    "input = Input((28,28))\n",
    "x = Flatten()(input)\n",
    "x = Dense(10) (x)\n",
    "x = Dense(128, activation='relu')(x)\n",
    "dense = Model(input, x)\n",
    "\n",
    "input1 = Input((28,28))\n",
    "input2 = Input((28,28))\n",
    "\n",
    "dense1 = dense(input1)\n",
    "dense2 = dense(input2)\n",
    "\n",
    "merge_layer = Lambda(euclidean_distance)([dense1,dense2])\n",
    "dense_layer = Dense(1, activation='sigmoid')(merge_layer)\n",
    "model = Model (inputs = [input1,input2], outputs = dense_layer)"
   ]
  },
  {
   "cell_type": "code",
   "execution_count": 11,
   "metadata": {},
   "outputs": [],
   "source": [
    "model.compile(loss ='binary_crossentropy', optimizer='adam', metrics=['acc'])"
   ]
  },
  {
   "cell_type": "code",
   "execution_count": 12,
   "metadata": {},
   "outputs": [],
   "source": [
    "#plot_model(model, to_file='model_plot.png', show_shapes=True, show_layer_names=True)"
   ]
  },
  {
   "attachments": {
    "model_plot.png": {
     "image/png": "[encoded data removed]"
    }
   },
   "cell_type": "markdown",
   "metadata": {},
   "source": [
    "![model_plot.png](attachment:model_plot.png)"
   ]
  },
  {
   "cell_type": "code",
   "execution_count": 13,
   "metadata": {},
   "outputs": [
    {
     "name": "stdout",
     "output_type": "stream",
     "text": [
      "Train on 120000 samples\n",
      "Epoch 1/20\n",
      "120000/120000 [==============================] - 7s 54us/sample - loss: 0.4553 - acc: 0.7930\n",
      "Epoch 2/20\n",
      "120000/120000 [==============================] - 5s 42us/sample - loss: 0.3110 - acc: 0.8825\n",
      "Epoch 3/20\n",
      "120000/120000 [==============================] - 5s 42us/sample - loss: 0.2768 - acc: 0.8937\n",
      "Epoch 4/20\n",
      "120000/120000 [==============================] - 5s 42us/sample - loss: 0.2522 - acc: 0.9022\n",
      "Epoch 5/20\n",
      "120000/120000 [==============================] - 5s 42us/sample - loss: 0.2370 - acc: 0.9083\n",
      "Epoch 6/20\n",
      "120000/120000 [==============================] - 5s 46us/sample - loss: 0.2294 - acc: 0.9112\n",
      "Epoch 7/20\n",
      "120000/120000 [==============================] - 5s 45us/sample - loss: 0.2200 - acc: 0.9162\n",
      "Epoch 8/20\n",
      "120000/120000 [==============================] - 5s 44us/sample - loss: 0.2138 - acc: 0.9188\n",
      "Epoch 9/20\n",
      "120000/120000 [==============================] - 5s 42us/sample - loss: 0.2105 - acc: 0.9198\n",
      "Epoch 10/20\n",
      "120000/120000 [==============================] - 5s 45us/sample - loss: 0.2083 - acc: 0.9202\n",
      "Epoch 11/20\n",
      "120000/120000 [==============================] - 5s 43us/sample - loss: 0.2054 - acc: 0.9212\n",
      "Epoch 12/20\n",
      "120000/120000 [==============================] - 5s 44us/sample - loss: 0.2031 - acc: 0.9226\n",
      "Epoch 13/20\n",
      "120000/120000 [==============================] - 5s 45us/sample - loss: 0.1970 - acc: 0.92511s - loss: \n",
      "Epoch 14/20\n",
      "120000/120000 [==============================] - 5s 45us/sample - loss: 0.1925 - acc: 0.92651s\n",
      "Epoch 15/20\n",
      "120000/120000 [==============================] - 6s 52us/sample - loss: 0.1900 - acc: 0.9280\n",
      "Epoch 16/20\n",
      "120000/120000 [==============================] - 5s 45us/sample - loss: 0.1886 - acc: 0.9283\n",
      "Epoch 17/20\n",
      "120000/120000 [==============================] - 6s 47us/sample - loss: 0.1874 - acc: 0.9280\n",
      "Epoch 18/20\n",
      "120000/120000 [==============================] - 6s 49us/sample - loss: 0.1860 - acc: 0.9297\n",
      "Epoch 19/20\n",
      "120000/120000 [==============================] - 9s 72us/sample - loss: 0.1843 - acc: 0.9293\n",
      "Epoch 20/20\n",
      "120000/120000 [==============================] - 7s 55us/sample - loss: 0.1829 - acc: 0.9298\n"
     ]
    },
    {
     "data": {
      "text/plain": [
       "<tensorflow.python.keras.callbacks.History at 0x2a616ca2f60>"
      ]
     },
     "execution_count": 13,
     "metadata": {},
     "output_type": "execute_result"
    }
   ],
   "source": [
    "model.fit([pairs_train[:,0],pairs_train[:,1]], labels_train[:], batch_size=32, epochs=20)"
   ]
  },
  {
   "cell_type": "markdown",
   "metadata": {},
   "source": [
    "\n",
    "## Visualizing Weights using the PCA\n",
    "\n",
    "Using the PCA, I can graphically represent high dimensional embeddings. This can be helpful in visualizing, examining, and understanding your embedding layers.\n"
   ]
  },
  {
   "cell_type": "code",
   "execution_count": 14,
   "metadata": {},
   "outputs": [
    {
     "name": "stdout",
     "output_type": "stream",
     "text": [
      "(10, 128)\n"
     ]
    }
   ],
   "source": [
    "# Get the weights of the embedding layer\n",
    "weights = tf.Variable(dense.layers[3].get_weights()[0])\n",
    "print(weights.shape)"
   ]
  },
  {
   "cell_type": "code",
   "execution_count": 15,
   "metadata": {},
   "outputs": [],
   "source": [
    "# n_components = numbers of dimenstions you want to retain\n",
    "pca = decomposition.PCA(n_components=2)\n",
    "pca_data = pca.fit_transform(weights.numpy())\n"
   ]
  },
  {
   "cell_type": "code",
   "execution_count": 16,
   "metadata": {},
   "outputs": [
    {
     "data": {
      "image/png": "[encoded data removed]",
      "text/plain": [
       "<Figure size 432x288 with 1 Axes>"
      ]
     },
     "metadata": {
      "needs_background": "light"
     },
     "output_type": "display_data"
    }
   ],
   "source": [
    "# plot weights\n",
    "names = [str(i) for i in range(10)]\n",
    "plt.scatter(pca_data[:,0],pca_data[:,1])\n",
    "for label, x, y in zip(names, pca_data[:,0], pca_data[:,1]):\n",
    "    plt.annotate( label, xy=(x, y), xytext=(-2, 2), textcoords='offset points', ha='right', va='bottom' )\n",
    "plt.show()"
   ]
  },
  {
   "cell_type": "markdown",
   "metadata": {},
   "source": [
    "# Evaluate Model on the test dataset"
   ]
  },
  {
   "cell_type": "code",
   "execution_count": 17,
   "metadata": {},
   "outputs": [
    {
     "name": "stdout",
     "output_type": "stream",
     "text": [
      "20000/20000 - 1s - loss: 0.2097 - acc: 0.9189\n",
      "Test score: 0.209654268338345\n",
      "Test accuracy: 0.91885\n"
     ]
    }
   ],
   "source": [
    "score, acc = model.evaluate([pairs_test[:,0],pairs_test[:,1]], labels_test[:],batch_size=25, verbose=2)\n",
    "print('Test score:', score) #Score is the evaluation of the loss function for a given input.\n",
    "print('Test accuracy:', acc)"
   ]
  },
  {
   "cell_type": "markdown",
   "metadata": {},
   "source": [
    "# Test Model on the Fashion MNIST dataset"
   ]
  },
  {
   "cell_type": "code",
   "execution_count": 20,
   "metadata": {},
   "outputs": [],
   "source": [
    "(f_x_train, f_y_train), (f_x_test, f_y_test)= tf.keras.datasets.fashion_mnist.load_data()\n",
    "f_x_train = f_x_train.astype('float32')\n",
    "f_x_test = f_x_test.astype('float32')\n",
    "f_x_train /= 255\n",
    "f_x_test /= 255"
   ]
  },
  {
   "cell_type": "code",
   "execution_count": 26,
   "metadata": {},
   "outputs": [],
   "source": [
    "num_classes = max(f_y_train) + 1\n",
    "digit_indices = [np.where(f_y_train == i)[0] for i in range(num_classes)]\n",
    "\n",
    "f_idx = random.randint(0, num_classes-1)\n",
    "pair1 = f_x_train[random.choice(digit_indices[f_idx])]\n",
    "pair2 = f_x_train[random.choice(digit_indices[f_idx])]"
   ]
  },
  {
   "cell_type": "code",
   "execution_count": 27,
   "metadata": {},
   "outputs": [
    {
     "name": "stdout",
     "output_type": "stream",
     "text": [
      "(28, 28)\n"
     ]
    },
    {
     "data": {
      "image/png": "[encoded data removed]",
      "text/plain": [
       "<Figure size 432x288 with 2 Axes>"
      ]
     },
     "metadata": {
      "needs_background": "light"
     },
     "output_type": "display_data"
    }
   ],
   "source": [
    "# plot pairs\n",
    "fig = plt.figure()\n",
    "\n",
    "plt.subplot(1, 2, 1)\n",
    "plt.imshow(pair1)\n",
    "\n",
    "plt.subplot(1, 2, 2)\n",
    "plt.imshow(pair2)\n",
    "\n",
    "\n",
    "print(pair1.shape)"
   ]
  },
  {
   "cell_type": "code",
   "execution_count": 29,
   "metadata": {},
   "outputs": [],
   "source": [
    "input1 = np.expand_dims(pair1,0)\n",
    "input2 = np.expand_dims(pair2,0)"
   ]
  },
  {
   "cell_type": "code",
   "execution_count": 30,
   "metadata": {},
   "outputs": [
    {
     "data": {
      "text/plain": [
       "array([[0.9998312]], dtype=float32)"
      ]
     },
     "execution_count": 30,
     "metadata": {},
     "output_type": "execute_result"
    }
   ],
   "source": [
    "#make prediction\n",
    "model.predict([input1,input2])"
   ]
  }
 ],
 "metadata": {
  "kernelspec": {
   "display_name": "Python 3",
   "language": "python",
   "name": "python3"
  },
  "language_info": {
   "codemirror_mode": {
    "name": "ipython",
    "version": 3
   },
   "file_extension": ".py",
   "mimetype": "text/x-python",
   "name": "python",
   "nbconvert_exporter": "python",
   "pygments_lexer": "ipython3",
   "version": "3.6.2"
  }
 },
 "nbformat": 4,
 "nbformat_minor": 2
}
